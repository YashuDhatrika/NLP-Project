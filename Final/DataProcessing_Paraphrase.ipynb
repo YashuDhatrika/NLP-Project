{
  "nbformat": 4,
  "nbformat_minor": 0,
  "metadata": {
    "colab": {
      "name": "Copy of DataProcessing-Paraphrase.ipynb",
      "version": "0.3.2",
      "provenance": [],
      "collapsed_sections": []
    },
    "kernelspec": {
      "name": "python3",
      "display_name": "Python 3"
    }
  },
  "cells": [
    {
      "cell_type": "code",
      "metadata": {
        "id": "jlmcHN9J4JMc",
        "colab_type": "code",
        "outputId": "15a40f78-dc1f-441b-a590-d9a63a92766c",
        "colab": {
          "base_uri": "https://localhost:8080/",
          "height": 52
        }
      },
      "source": [
        "import spacy\n",
        "nlp = spacy.load('en_core_web_sm')\n",
        "import nltk\n",
        "nltk.download('wordnet')\n",
        "from nltk.corpus import wordnet as wnet\n",
        "nlp = spacy.load('en')\n",
        "import os\n"
      ],
      "execution_count": 0,
      "outputs": [
        {
          "output_type": "stream",
          "text": [
            "[nltk_data] Downloading package wordnet to /root/nltk_data...\n",
            "[nltk_data]   Unzipping corpora/wordnet.zip.\n"
          ],
          "name": "stdout"
        }
      ]
    },
    {
      "cell_type": "markdown",
      "metadata": {
        "id": "T_kg71UDn22h",
        "colab_type": "text"
      },
      "source": [
        "# Read data\n",
        "The input dataset is split into two files:\n",
        "- train.nl- It has the input natural language queries.\n",
        "- trainsql- It has the SQL query corresponding to the Natural language query in train.nl."
      ]
    },
    {
      "cell_type": "code",
      "metadata": {
        "id": "hSjm-VpHEduG",
        "colab_type": "code",
        "colab": {}
      },
      "source": [
        "#os.path.isfile(\"train.nl\")\n",
        "enlines = open('train.nl', encoding='utf-8').read().split('\\n')\n",
        "sqllines = open('train.sql', encoding='utf-8').read().split('\\n')"
      ],
      "execution_count": 0,
      "outputs": []
    },
    {
      "cell_type": "code",
      "metadata": {
        "id": "_vxhJlzeny7E",
        "colab_type": "code",
        "colab": {}
      },
      "source": [
        "enlines=enlines[:len(enlines)-1]\n",
        "sqllines=sqllines[:len(sqllines)-1]"
      ],
      "execution_count": 0,
      "outputs": []
    },
    {
      "cell_type": "code",
      "metadata": {
        "id": "x_nMWz24oCeb",
        "colab_type": "code",
        "outputId": "f7b4c20a-0091-4f8a-ab5d-126a37a29dc4",
        "colab": {
          "base_uri": "https://localhost:8080/",
          "height": 107
        }
      },
      "source": [
        "print(enlines[-1])\n",
        "print(sqllines[-1])\n",
        "print(len(enlines))\n",
        "print(len(sqllines))"
      ],
      "execution_count": 0,
      "outputs": [
        {
          "output_type": "stream",
          "text": [
            "i want a flight from pittsburgh to los angeles that departs after 6pm on thursday\n",
            "SELECT DISTINCT flight_1.flight_id FROM flight flight_1 , airport_service airport_service_1 , city city_1 , airport_service airport_service_2 , city city_2 , days days_1 , date_day date_day_1 WHERE flight_1.from_airport = airport_service_1.airport_code AND airport_service_1.city_code = city_1.city_code AND city_1.city_name = 'PITTSBURGH' AND ( flight_1.to_airport = airport_service_2.airport_code AND airport_service_2.city_code = city_2.city_code AND city_2.city_name = 'LOS ANGELES' AND ( flight_1.flight_days = days_1.days_code AND days_1.day_name = date_day_1.day_name AND date_day_1.year = 1991 AND date_day_1.month_number = 5 AND date_day_1.day_number = 24 AND flight_1.departure_time > 1800 ) )\n",
            "4379\n",
            "4379\n"
          ],
          "name": "stdout"
        }
      ]
    },
    {
      "cell_type": "markdown",
      "metadata": {
        "id": "ACqZuGJBn7ln",
        "colab_type": "text"
      },
      "source": [
        "# Paraphrase\n",
        "\n",
        "The first word of a sentence is always paraphrased. If it is not the first word we do the following:\n",
        "- If it is a noun we do not paraphrase it. The nouns could be potential candidates for becoming a database object- namely table name, column name etc. Hence we avoid losing it in order to accomodate it in our output sequence.\n",
        "- There is no gain in paraphrasing stop words, hence we exclude that as well\n",
        "- If the dependency parse tree yields the tag nobj,pobj or dobj it is not paraphrased\n",
        "- If the dependency parse tree yields the tag compound or xcomp then we exclude it in order to ensure that we do not paraphrase part of a phrase or word.\n",
        "- If the word clears all the above conditions, then we use the word along with its pos tag to obtain its synsets from wordnet. We use the first three synsets only. We make sure that each paraphrased word occurs in combination with each of the other for a given sentence."
      ]
    },
    {
      "cell_type": "code",
      "metadata": {
        "id": "aPshbKcPEmge",
        "colab_type": "code",
        "colab": {}
      },
      "source": [
        "def paraphrase(enlines):\n",
        "  new_enlines=[]\n",
        "  new_sqllines=[]\n",
        "  syn_dict={}\n",
        "  for sindex in range(len(enlines)):\n",
        "    spline=nlp(enlines[sindex])\n",
        "    comb_sent=[enlines[sindex]] \n",
        "    sql_comb=[sqllines[sindex]]\n",
        "    for i in range(len(spline)):\n",
        "      token=spline[i]      \n",
        "      word=str(token)\n",
        "      if i==0 or (not(token.is_stop) and token.pos_!='NOUN' and token.dep_ not in ('nobj','dobj','compound','xcomp','pobj')):     \n",
        "        if '{},{}'.format(word,token.pos_) not in syn_dict:          \n",
        "          list_syn=[]\n",
        "          if token.pos_=='ADJ':\n",
        "            list_syn=wnet.synsets(word,wnet.ADJ)\n",
        "          elif token.pos_=='ADV':\n",
        "            list_syn=wnet.synsets(word,wnet.ADV)\n",
        "          else:\n",
        "            list_syn=wnet.synsets(word,wnet.VERB)\n",
        "          if len(list_syn)>0:\n",
        "            temp=[each.lemmas()[0].name() for each in list_syn[1:3]]\n",
        "            temp.extend([lem.name() for lem in list_syn[0].lemmas()[0:3]])\n",
        "            temp=list(dict.fromkeys(temp))\n",
        "            temp=list(set(temp)-set([word])-set([token.lemma_]))\n",
        "            if len(temp)>0:              \n",
        "              syn_dict['{},{}'.format(word,token.pos_)]=temp\n",
        "        if '{},{}'.format(word,token.pos_) in syn_dict:\n",
        "          initial=comb_sent[:]\n",
        "          for sent in initial:\n",
        "            for syntext in syn_dict['{},{}'.format(word,token.pos_)]:\n",
        "              sentlist=sent.split(\" \")\n",
        "              comb_sent.append(\" \".join(sentlist[:i]+[syntext]+sentlist[i+1:]))                \n",
        "    sql_comb=sql_comb*len(comb_sent)            \n",
        "    new_enlines.extend(comb_sent)\n",
        "    new_sqllines.extend(sql_comb)\n",
        "  return(syn_dict,new_enlines,new_sqllines)\n"
      ],
      "execution_count": 0,
      "outputs": []
    },
    {
      "cell_type": "code",
      "metadata": {
        "id": "KQ25-53_j-OA",
        "colab_type": "code",
        "colab": {}
      },
      "source": [
        "syn_dict,para_enlines,para_sqllines=paraphrase(enlines)"
      ],
      "execution_count": 0,
      "outputs": []
    },
    {
      "cell_type": "code",
      "metadata": {
        "id": "Wxoee5b4jlat",
        "colab_type": "code",
        "outputId": "8bb6bd50-5b84-4afc-ea85-80e5be051dd4",
        "colab": {
          "base_uri": "https://localhost:8080/",
          "height": 141
        }
      },
      "source": [
        "print(para_enlines[0:10])\n",
        "print(len(para_enlines))\n",
        "print(para_sqllines[0:10])\n",
        "print(len(para_sqllines))\n",
        "print(len(list(syn_dict.keys())))\n",
        "print(syn_dict)"
      ],
      "execution_count": 0,
      "outputs": [
        {
          "output_type": "stream",
          "text": [
            "['list all the flights that arrive at general mitchell international from various cities', 'name all the flights that arrive at general mitchell international from various cities', 'list all the flights that get at general mitchell international from various cities', 'list all the flights that come at general mitchell international from various cities', 'name all the flights that get at general mitchell international from various cities', 'name all the flights that come at general mitchell international from various cities', 'give me the flights leaving denver august ninth coming back to boston', 'yield me the flights leaving denver august ninth coming back to boston', 'give me the flights go_forth denver august ninth coming back to boston', 'give me the flights go_away denver august ninth coming back to boston']\n",
            "41222\n",
            "[\"SELECT DISTINCT flight_1.flight_id FROM flight flight_1 , airport airport_1 , airport_service airport_service_1 , city city_1 WHERE flight_1.to_airport = airport_1.airport_code AND airport_1.airport_code = 'MKE' AND flight_1.from_airport = airport_service_1.airport_code AND airport_service_1.city_code = city_1.city_code AND 1 = 1\", \"SELECT DISTINCT flight_1.flight_id FROM flight flight_1 , airport airport_1 , airport_service airport_service_1 , city city_1 WHERE flight_1.to_airport = airport_1.airport_code AND airport_1.airport_code = 'MKE' AND flight_1.from_airport = airport_service_1.airport_code AND airport_service_1.city_code = city_1.city_code AND 1 = 1\", \"SELECT DISTINCT flight_1.flight_id FROM flight flight_1 , airport airport_1 , airport_service airport_service_1 , city city_1 WHERE flight_1.to_airport = airport_1.airport_code AND airport_1.airport_code = 'MKE' AND flight_1.from_airport = airport_service_1.airport_code AND airport_service_1.city_code = city_1.city_code AND 1 = 1\", \"SELECT DISTINCT flight_1.flight_id FROM flight flight_1 , airport airport_1 , airport_service airport_service_1 , city city_1 WHERE flight_1.to_airport = airport_1.airport_code AND airport_1.airport_code = 'MKE' AND flight_1.from_airport = airport_service_1.airport_code AND airport_service_1.city_code = city_1.city_code AND 1 = 1\", \"SELECT DISTINCT flight_1.flight_id FROM flight flight_1 , airport airport_1 , airport_service airport_service_1 , city city_1 WHERE flight_1.to_airport = airport_1.airport_code AND airport_1.airport_code = 'MKE' AND flight_1.from_airport = airport_service_1.airport_code AND airport_service_1.city_code = city_1.city_code AND 1 = 1\", \"SELECT DISTINCT flight_1.flight_id FROM flight flight_1 , airport airport_1 , airport_service airport_service_1 , city city_1 WHERE flight_1.to_airport = airport_1.airport_code AND airport_1.airport_code = 'MKE' AND flight_1.from_airport = airport_service_1.airport_code AND airport_service_1.city_code = city_1.city_code AND 1 = 1\", \"SELECT DISTINCT flight_1.flight_id FROM flight flight_1 , airport_service airport_service_1 , city city_1 , airport_service airport_service_2 , city city_2 , days days_1 , date_day date_day_1 WHERE flight_1.from_airport = airport_service_1.airport_code AND airport_service_1.city_code = city_1.city_code AND city_1.city_name = 'DENVER' AND ( flight_1.to_airport = airport_service_2.airport_code AND airport_service_2.city_code = city_2.city_code AND city_2.city_name = 'BOSTON' AND flight_1.flight_days = days_1.days_code AND days_1.day_name = date_day_1.day_name AND date_day_1.year = 1991 AND date_day_1.month_number = 8 AND date_day_1.day_number = 9 )\", \"SELECT DISTINCT flight_1.flight_id FROM flight flight_1 , airport_service airport_service_1 , city city_1 , airport_service airport_service_2 , city city_2 , days days_1 , date_day date_day_1 WHERE flight_1.from_airport = airport_service_1.airport_code AND airport_service_1.city_code = city_1.city_code AND city_1.city_name = 'DENVER' AND ( flight_1.to_airport = airport_service_2.airport_code AND airport_service_2.city_code = city_2.city_code AND city_2.city_name = 'BOSTON' AND flight_1.flight_days = days_1.days_code AND days_1.day_name = date_day_1.day_name AND date_day_1.year = 1991 AND date_day_1.month_number = 8 AND date_day_1.day_number = 9 )\", \"SELECT DISTINCT flight_1.flight_id FROM flight flight_1 , airport_service airport_service_1 , city city_1 , airport_service airport_service_2 , city city_2 , days days_1 , date_day date_day_1 WHERE flight_1.from_airport = airport_service_1.airport_code AND airport_service_1.city_code = city_1.city_code AND city_1.city_name = 'DENVER' AND ( flight_1.to_airport = airport_service_2.airport_code AND airport_service_2.city_code = city_2.city_code AND city_2.city_name = 'BOSTON' AND flight_1.flight_days = days_1.days_code AND days_1.day_name = date_day_1.day_name AND date_day_1.year = 1991 AND date_day_1.month_number = 8 AND date_day_1.day_number = 9 )\", \"SELECT DISTINCT flight_1.flight_id FROM flight flight_1 , airport_service airport_service_1 , city city_1 , airport_service airport_service_2 , city city_2 , days days_1 , date_day date_day_1 WHERE flight_1.from_airport = airport_service_1.airport_code AND airport_service_1.city_code = city_1.city_code AND city_1.city_name = 'DENVER' AND ( flight_1.to_airport = airport_service_2.airport_code AND airport_service_2.city_code = city_2.city_code AND city_2.city_name = 'BOSTON' AND flight_1.flight_days = days_1.days_code AND days_1.day_name = date_day_1.day_name AND date_day_1.year = 1991 AND date_day_1.month_number = 8 AND date_day_1.day_number = 9 )\"]\n",
            "41222\n",
            "226\n",
            "{'list,VERB': ['name'], 'arrive,VERB': ['get', 'come'], 'give,VERB': ['yield'], 'leaving,VERB': ['go_forth', 'go_away'], 'coming,VERB': ['come_up', 'arrive'], 'american,ADJ': ['American'], 'return,VERB': ['render', 'revert'], 'can,VERB': ['displace', 'put_up', 'tin'], 'show,VERB': ['exhibit', 'prove', 'demo', 'testify'], 'like,VERB': ['wish', 'care'], 'do,VERB': ['make', 'perform'], 'round,ADJ': ['orotund', 'circular'], 'united,ADJ': ['joined'], 'nonstop,ADJ': ['around-the-clock'], 'arriving,VERB': ['get', 'come'], 'seventh,ADJ': ['7th'], 'stand,VERB': ['stand_up'], 'thirteenth,ADJ': ['13th'], 'need,VERB': ['want', 'ask', 'postulate', 'necessitate'], 'going,VERB': ['move', 'travel'], 'international,ADJ': ['external'], 'continental,ADJ': ['Continental'], 'beginning,VERB': ['get', 'get_down'], 'returning,VERB': ['render', 'revert'], 'sixth,ADJ': ['6th'], 'list,NOUN': ['name'], 'earliest,ADJ': ['earlier'], 'flights,NOUN': ['fledge'], 'find,VERB': ['chance', 'detect', 'happen'], 'new,ADJ': ['fresh', 'raw'], 'lastest,ADJ': ['concluding'], 'possible,ADJ': ['potential'], 'united,VERB': ['unify'], 'latest,ADJ': ['up-to-the-minute'], 'want,VERB': ['desire'], 'highest,ADJ': ['eminent'], 'northwest,ADJ': ['northwesterly', 'northwestern'], 'late,ADJ': ['belated'], 'ground,NOUN': ['anchor'], 'departing,VERB': ['go_away', 'deviate', 'go'], 'goes,VERB': ['move', 'travel'], 'please,INTJ': ['delight'], 'first,ADJ': ['inaugural'], 'okay,INTJ': ['O.K.', 'approve'], 'originating,VERB': ['rise', 'arise'], 'minimum,ADJ': ['minimal'], 'lowest,ADJ': ['last-place', 'last'], 'tell,VERB': ['state', 'say'], 'cheapest,ADJ': ['bum', 'brassy', 'inexpensive'], 'leave,VERB': ['go_forth', 'go_away'], 'smallest,ADJ': ['minor', 'little'], 'fourth,ADJ': ['quaternary', '4th'], 'leaves,VERB': ['go_forth', 'go_away'], 'serving,VERB': ['function'], 'repeat,VERB': ['reiterate', 'duplicate', 'ingeminate', 'recur'], 'display,NOUN': ['expose', 'exhibit'], 'serves,VERB': ['function'], 'second,ADJ': ['2nd', '2d'], 'arrives,VERB': ['get', 'come'], 'earliest,ADV': ['soonest'], 'fly,VERB': ['wing'], 'eighth,ADJ': ['8th'], 'worth,ADJ': ['deserving'], 'does,VERB': ['make', 'perform'], 'ninth,ADJ': ['9th'], 'daily,ADJ': ['day-by-day', 'casual', 'day-to-day'], 'canadian,ADJ': ['Canadian'], 'uses,VERB': ['utilise', 'utilize'], 'fare,VERB': ['do', 'make_out'], 'mean,ADJ': ['base', 'average', 'hateful'], 'early,ADV': ['early_on'], 'advertises,VERB': ['publicize', 'advertize'], 'like,ADP': ['wish', 'care'], 'offer,VERB': ['volunteer'], 'single,ADJ': ['individual'], 'cost,VERB': ['be'], 'gets,VERB': ['acquire', 'become'], 'only,ADV': ['entirely', 'simply', 'just', 'merely'], 'express,VERB': ['evince', 'show', 'carry'], 'serve,VERB': ['function'], 'second,ADV': ['secondly'], 'book,VERB': ['reserve'], 'connecting,VERB': ['associate', 'link', 'tie'], 'currently,ADV': ['presently'], 'served,VERB': ['function'], 'now,ADV': ['nowadays'], 'requesting,VERB': ['bespeak', 'call_for'], 'makes,VERB': ['do'], 'stops,VERB': ['discontinue', 'halt'], 'mean,VERB': ['intend', 'entail'], 'flying,VERB': ['wing'], 'like,INTJ': ['wish', 'care'], 'eastern,ADJ': ['easterly'], 'fifth,ADJ': ['5th'], 'explain,VERB': ['explicate', 'excuse'], 'flies,VERB': ['wing'], 'total,ADJ': ['full', 'entire'], 'traveling,VERB': ['move', 'go'], 'direct,VERB': ['target'], 'flight,NOUN': ['fledge'], 'coach,NOUN': ['train'], 'stop,VERB': ['discontinue', 'halt'], 'also,ADV': ['too', 'besides'], 'display,VERB': ['expose', 'exhibit'], 'thirtieth,ADJ': ['30th'], 'stopping,VERB': ['discontinue', 'halt'], 'soon,ADV': ['presently', 'shortly'], 'let,VERB': ['allow', 'permit'], 'fine,ADJ': ['all_right', 'o.k.'], 'thank,VERB': ['give_thanks'], 'approximately,ADV': ['close_to', 'about'], 'connects,VERB': ['associate', 'link', 'tie'], 'fares,VERB': ['do', 'make_out'], 'sixteenth,ADJ': ['16th'], 'departs,VERB': ['go_away', 'deviate', 'go'], 'all,ADV': ['entirely', 'completely', 'wholly'], 'late,ADV': ['tardily', 'belatedly', 'deep'], 'fort,VERB': ['fort_up', 'fortify'], 'daily,ADV': ['day_by_day'], 'rent,VERB': ['lease'], 'interested,ADJ': ['concerned'], 'carried,VERB': ['impart', 'transport'], 'fifteenth,ADJ': ['15th'], 'travels,VERB': ['move', 'go'], 'calling,VERB': ['name'], 'depart,VERB': ['go_away', 'deviate', 'go'], 'directly,ADV': ['straight', 'immediately', 'direct'], 'southwest,ADJ': ['southwesterly'], 'provided,VERB': ['render', 'supply'], 'fit,VERB': ['accommodate', 'suit', 'meet'], 'live,VERB': ['populate', 'dwell', 'survive'], 'right,INTJ': ['compensate', 'redress'], 'bound,VERB': ['jump', 'leap', 'restrict'], 'offers,VERB': ['volunteer'], 'sorry,ADJ': ['deplorable', 'bad', 'regretful', 'good-for-nothing'], 'know,VERB': ['cognize', 'cognise'], 'planning,VERB': ['be_after'], 'help,VERB': ['aid', 'assist'], 'booking,VERB': ['reserve'], 'represented,VERB': ['typify', 'correspond', 'stand_for'], 'economic,ADJ': ['economical'], 'located,VERB': ['turn_up', 'situate'], 'reaching,VERB': ['make', 'attain'], 'run,VERB': ['scat'], 'close,ADJ': ['near'], 'got,VERB': ['acquire', 'become'], 'wants,VERB': ['desire'], 'later,ADV': ['afterwards', 'subsequently', 'by_and_by'], 'making,VERB': ['do'], 'august,ADJ': ['grand', 'lordly'], 'seating,VERB': ['sit_down', 'induct', 'sit'], 'provide,VERB': ['render', 'supply'], 'repeating,VERB': ['reiterate', 'duplicate', 'ingeminate', 'recur'], 'fares,NOUN': ['do', 'make_out'], 'flights,VERB': ['fledge'], 'stands,VERB': ['stand_up'], 'laying,VERB': ['set', 'put', 'place'], 'earlier,ADJ': ['earliest'], 'landing,VERB': ['bring', 'set_down'], 'name,VERB': ['call'], 'greatest,ADJ': ['sterling', 'superlative'], 'trying,VERB': ['judge', 'seek', 'attempt', 'test'], 'use,VERB': ['utilise', 'utilize'], 'near,ADP': ['approach', 'come_on'], 'define,VERB': ['specify', 'delineate'], 'first,ADV': ['firstly', 'foremost'], 'fourth,ADV': ['fourthly'], 'continuing,VERB': ['go_on', 'proceed'], 'serviced,VERB': ['serve'], 'preferably,ADV': ['sooner', 'rather'], 'very,ADV': ['really', 'real'], 'closest,ADJ': ['near'], 'offered,VERB': ['volunteer'], 'originate,VERB': ['rise', 'arise'], 'twentieth,ADJ': ['20th'], 'operating,VERB': ['run', 'function'], 'travel,VERB': ['move', 'go'], 'equal,ADJ': ['adequate'], 'describe,VERB': ['report', 'trace', 'draw', 'depict'], 'runs,VERB': ['scat'], 'evening,NOUN': ['flush', 'even_out', 'even', 'level'], 'names,NOUN': ['call'], 'close,ADV': ['near', 'nigh'], 'starting,VERB': ['get_down', 'get', 'depart', 'begin'], 'sure,ADJ': ['certain'], 'start,VERB': ['get_down', 'get', 'depart', 'begin'], 'tenth,ADJ': ['10th'], 'twelfth,ADJ': ['12th'], 'carries,VERB': ['impart', 'transport'], 'then,ADV': ['and_so', 'so'], 'overnight,ADJ': ['all-night', 'nightlong'], 'heading,VERB': ['lead'], 'provides,VERB': ['render', 'supply'], 'cheap,ADJ': ['bum', 'brassy', 'inexpensive'], 'actually,ADV': ['really'], 'last,ADJ': ['concluding'], 'eleventh,ADJ': ['11th'], 'following,VERB': ['postdate'], 'takes,VERB': ['lead'], 'inexpensive,ADJ': ['cheap'], 'come,VERB': ['come_up', 'arrive'], 'begins,VERB': ['get', 'get_down'], 'later,ADJ': ['late', 'posterior', 'ulterior'], 'largest,ADJ': ['big', 'bombastic'], 'concerning,VERB': ['relate', 'pertain', 'refer'], 'red,ADJ': ['ruddy', 'reddish', 'crimson'], 'thanks,NOUN': ['give_thanks'], 'train,NOUN': ['discipline', 'prepare', 'develop'], 'listing,VERB': ['name'], 'staying,VERB': ['bide', 'remain', 'rest'], 'get,VERB': ['acquire', 'become'], 'reaches,VERB': ['make', 'attain'], 'again,ADV': ['once_more', 'once_again'], 'connect,VERB': ['associate', 'link', 'tie'], 'final,ADJ': ['concluding', 'last'], 'straight,ADV': ['direct', 'directly'], 'arrange,VERB': ['stage', 'set_up'], 'show,NOUN': ['exhibit', 'prove', 'demo', 'testify'], 'next,ADJ': ['adjacent', 'future', 'following'], 'northwest,ADV': ['north-west', \"nor'-west\"], 'maximum,ADJ': ['maximal'], 'taking,VERB': ['lead'], 'instead,ADV': ['alternatively', 'or_else', 'rather'], 'bring,VERB': ['convey', 'take'], 'wanted,VERB': ['desire'], 'fare,NOUN': ['do', 'make_out']}\n"
          ],
          "name": "stdout"
        }
      ]
    },
    {
      "cell_type": "markdown",
      "metadata": {
        "id": "m_QpGyfKoR4r",
        "colab_type": "text"
      },
      "source": [
        "# Write File\n",
        "After paraphrasing the output is written to the files new_train.nl and new_train.sql."
      ]
    },
    {
      "cell_type": "code",
      "metadata": {
        "id": "jq2gFiCGjPf8",
        "colab_type": "code",
        "colab": {}
      },
      "source": [
        "X_data='\\n'.join(para_enlines)\n",
        "Y_data='\\n'.join(para_sqllines)"
      ],
      "execution_count": 0,
      "outputs": []
    },
    {
      "cell_type": "code",
      "metadata": {
        "id": "oPRZt-egjk1z",
        "colab_type": "code",
        "colab": {}
      },
      "source": [
        "with open(\"new_train.nl\",'w') as f:\n",
        "  f.write(X_data)\n",
        "with open(\"new_train.sql\",'w') as f:\n",
        "  f.write(Y_data)"
      ],
      "execution_count": 0,
      "outputs": []
    }
  ]
}